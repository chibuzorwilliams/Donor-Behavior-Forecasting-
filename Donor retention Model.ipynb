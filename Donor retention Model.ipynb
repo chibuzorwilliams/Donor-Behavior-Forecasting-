{
 "cells": [
  {
   "cell_type": "code",
   "execution_count": 0,
   "metadata": {
    "application/vnd.databricks.v1+cell": {
     "cellMetadata": {
      "byteLimit": 2048000,
      "rowLimit": 10000
     },
     "collapsed": true,
     "inputWidgets": {},
     "nuid": "27da32c1-2ebb-45a1-b8b5-571e4368e99b",
     "showTitle": false,
     "tableResultSettingsMap": {},
     "title": ""
    }
   },
   "outputs": [],
   "source": [
    "pip install xgboost"
   ]
  },
  {
   "cell_type": "code",
   "execution_count": 0,
   "metadata": {
    "application/vnd.databricks.v1+cell": {
     "cellMetadata": {
      "byteLimit": 2048000,
      "rowLimit": 10000
     },
     "collapsed": true,
     "inputWidgets": {},
     "nuid": "9894eeee-33a8-418b-b347-18e44316a831",
     "showTitle": false,
     "tableResultSettingsMap": {},
     "title": ""
    }
   },
   "outputs": [],
   "source": [
    "# LIBRARIES\n",
    "import pandas as pd\n",
    "import numpy as np\n",
    "import plotly.express as px\n",
    "import matplotlib.pyplot as plt\n",
    "from sklearn.model_selection import train_test_split\n",
    "from sklearn.preprocessing import StandardScaler\n",
    "from sklearn.metrics import classification_report, roc_auc_score\n",
    "from sklearn.calibration import CalibratedClassifierCV, calibration_curve\n",
    "from xgboost import XGBClassifier\n",
    "from collections import Counter"
   ]
  },
  {
   "cell_type": "code",
   "execution_count": 0,
   "metadata": {
    "application/vnd.databricks.v1+cell": {
     "cellMetadata": {
      "byteLimit": 2048000,
      "rowLimit": 10000
     },
     "collapsed": true,
     "inputWidgets": {},
     "nuid": "5cede41a-3caf-45dc-946f-1fe9502a1eec",
     "showTitle": false,
     "tableResultSettingsMap": {},
     "title": ""
    }
   },
   "outputs": [],
   "source": [
    "query = \"\"\"\n",
    " SQL Code \n",
    ")\n",
    "\n",
    "SELECT *\n",
    "FROM final_data;\n",
    "\n",
    "\"\"\"\n",
    "\n",
    "# Run the query using Spark\n",
    "df = spark.sql(query)\n",
    "\n",
    "# Convert to Pandas for local processing or export\n",
    "pandas_df = df.toPandas()"
   ]
  },
  {
   "cell_type": "code",
   "execution_count": 0,
   "metadata": {
    "application/vnd.databricks.v1+cell": {
     "cellMetadata": {
      "byteLimit": 2048000,
      "rowLimit": 10000
     },
     "collapsed": true,
     "inputWidgets": {},
     "nuid": "3d0df0d3-77ad-450e-80ef-bbd52bd37471",
     "showTitle": false,
     "tableResultSettingsMap": {},
     "title": ""
    }
   },
   "outputs": [],
   "source": [
    "# PREPROCESSING\n",
    "# Selected Features\n",
    "final_model_features = [\n",
    "    'gender_encoded', 'recurring_type_encoded', 'urbanicity_class_encoded',\n",
    "    'log_first_donation_amount', 'signup_device_encoded', 'first_gift_hour',\n",
    "    'first_gift_weekday_encoded', 'distance_to_gp_bucket', 'num_gifts_on_first_day',\n",
    "    'donor_set_location', 'profile_complete','gp_profile_complete', \n",
    "    'gp_age_at_gift_months', 'memo_engagement', 'memo_admin', 'got_response_same_day',\n",
    "    'num_first_time_co_donors', 'first_of_month', 'last_of_month',\n",
    "    'giving_tuesday','stimulus', 'cmet_code', 'is_payweek', 'py_was_first', \n",
    "    'covid', 'is_conference', 'first_gift_is_tithe', 'covid_final_wk_tue_fri'\n",
    "]\n",
    "\n",
    "X = pandas_df[final_model_features]\n",
    "y = pandas_df['gave_again_within_35d']"
   ]
  },
  {
   "cell_type": "code",
   "execution_count": 0,
   "metadata": {
    "application/vnd.databricks.v1+cell": {
     "cellMetadata": {
      "byteLimit": 2048000,
      "rowLimit": 10000
     },
     "collapsed": true,
     "inputWidgets": {},
     "nuid": "1986d13e-5312-403a-a7ad-4ecc53ccd223",
     "showTitle": false,
     "tableResultSettingsMap": {},
     "title": ""
    }
   },
   "outputs": [
    {
     "data": {
      "text/html": [
       "<html>\n",
       "<head><meta charset=\"utf-8\" /></head>\n",
       "<body>\n",
       "    <div>            <script src=\"https://cdnjs.cloudflare.com/ajax/libs/mathjax/2.7.5/MathJax.js?config=TeX-AMS-MML_SVG\"></script><script type=\"text/javascript\">if (window.MathJax && window.MathJax.Hub && window.MathJax.Hub.Config) {window.MathJax.Hub.Config({SVG: {font: \"STIX-Web\"}});}</script>                <script type=\"text/javascript\">window.PlotlyConfig = {MathJaxConfig: 'local'};</script>\n",
       "        <script src=\"https://cdn.plot.ly/plotly-2.12.1.min.js\"></script>                <div id=\"89283b3e-976a-49c3-9ad3-918b5cc78fb7\" class=\"plotly-graph-div\" style=\"height:1350px; width:1350px;\"></div>            <script type=\"text/javascript\">                                    window.PLOTLYENV=window.PLOTLYENV || {};                                    if (document.getElementById(\"89283b3e-976a-49c3-9ad3-918b5cc78fb7\")) {                    Plotly.newPlot(                        \"89283b3e-976a-49c3-9ad3-918b5cc78fb7\",                        [{\"coloraxis\":\"coloraxis\",\"name\":\"0\",\"texttemplate\":\"%{z:.2f}\",\"x\":[\"gender_encoded\",\"recurring_type_encoded\",\"urbanicity_class_encoded\",\"log_first_donation_amount\",\"signup_device_encoded\",\"first_gift_hour\",\"first_gift_weekday_encoded\",\"distance_to_gp_bucket\",\"num_gifts_on_first_day\",\"donor_set_location\",\"profile_complete\",\"gp_profile_complete\",\"memo_engagement\",\"memo_admin\",\"got_response_same_day\",\"num_first_time_co_donors\",\"first_of_month\",\"last_of_month\",\"giving_tuesday\",\"stimulus\",\"cmet_code\",\"is_payweek\",\"py_was_first\",\"covid\",\"is_conference\",\"first_gift_is_tithe\",\"covid_final_wk_tue_fri\"],\"y\":[\"gender_encoded\",\"recurring_type_encoded\",\"urbanicity_class_encoded\",\"log_first_donation_amount\",\"signup_device_encoded\",\"first_gift_hour\",\"first_gift_weekday_encoded\",\"distance_to_gp_bucket\",\"num_gifts_on_first_day\",\"donor_set_location\",\"profile_complete\",\"gp_profile_complete\",\"memo_engagement\",\"memo_admin\",\"got_response_same_day\",\"num_first_time_co_donors\",\"first_of_month\",\"last_of_month\",\"giving_tuesday\",\"stimulus\",\"cmet_code\",\"is_payweek\",\"py_was_first\",\"covid\",\"is_conference\",\"first_gift_is_tithe\",\"covid_final_wk_tue_fri\"],\"z\":[[1.0,0.02852463310743834,0.023900663772047033,0.008144565790500796,0.00518877811407264,-0.0005571390496131621,0.008322059081840366,-0.01972440098654663,0.0006795486927003431,0.027623015603486747,0.040023319639023475,0.0007922430013117697,0.01174409765529889,0.010122307867867811,0.001042595091642878,0.007858547121070099,0.0161776807923053,0.006786180774166095,0.0017046342569319282,0.006893389723299954,0.005977483136933939,-0.0038532043035868933,-0.010258134912726329,-0.06106670778742233,-0.022225912511608208,0.012630544470878179,-0.010849659666805952],[0.02852463310743834,1.0,0.0721894121946353,0.05651010946421042,-0.13198307047543964,-0.0070560786328440536,0.017974998686190877,0.09282467190092739,0.032250752754562316,0.07961361012594106,0.1693327011042863,-0.013800258984393604,-0.02148433447064561,0.00019056813526369405,0.0012546490792804373,-0.028560205601568033,0.0084468621987461,-0.004947327375076347,-0.002340554413875269,0.01574457577174063,-0.004325170707454563,0.0015207885290180936,-0.01484195054977201,-0.05659259520018866,-0.03134889197598301,0.1041976770974927,-0.009548658387880358],[0.023900663772047033,0.0721894121946353,1.0,0.06567847789043078,-0.16435283147994623,0.020277565547440948,0.05144136331084182,0.18748666631116756,0.02688326684918196,0.8259070009861386,0.3833127191292613,-0.02918763238570248,-0.07263308071616191,-0.03531783572344095,0.014509319052967186,-0.014717778373990941,-0.0018635458640244367,-0.010032659241769085,0.00246812238600901,0.051817552999702095,-0.022100781879831794,-0.001736958585249503,-0.054565387133788744,-0.533521044532414,-0.021824858070220648,0.1019645777536998,-0.1335419195441196],[0.008144565790500796,0.05651010946421042,0.06567847789043078,1.0,-0.013889782347407608,0.011659730062280918,0.15548032836831166,0.018986025905187092,-0.010179572109513738,0.07540808615016407,0.03832454483156,-0.0013173225934399154,0.009275443801005466,0.09999395497075093,4.212201143102633e-05,-0.029569797679714963,0.014955257106088051,0.005683318186415954,0.009198682586949234,0.02124937327627575,9.580321153323628e-05,-0.0011483617526476906,-0.1728988666328243,-0.07691869696743006,-0.005727525968072217,0.29422661917670123,0.05899328039670671],[0.00518877811407264,-0.13198307047543964,-0.16435283147994623,-0.013889782347407608,1.0,0.008497752991208914,0.014790239189783434,-0.45451979906307116,-0.0438432093216261,-0.17398984887556299,-0.09980236722851007,0.052526931359296494,0.031394050146778256,-0.0221898673125628,-0.0006191647810016494,0.07841968055488094,0.005907382685984419,0.021154047057635298,0.012251125525154538,-0.0755797008618314,0.016231877918100816,-0.008937886338241677,-0.03375570411778472,0.06073765719171611,0.020866267883646993,-0.07887567591627753,0.03040028246876122],[-0.0005571390496131621,-0.0070560786328440536,0.020277565547440948,0.011659730062280918,0.008497752991208914,1.0,0.2007559335316911,0.01079390040973824,-0.009616186533656023,0.020731943830923822,0.0036250003890991884,-0.01211068838514137,0.012755842648420132,0.042370401036408566,-0.0017137050520351109,0.018217428885989137,-0.01383822993223405,0.03183121349435178,0.017644838147512998,0.002597334876131821,0.013996704373202015,0.001287467951546661,-0.2267905440093487,-0.029201284878671553,0.09575565811901389,-0.08468331737885874,0.09132597045451674],[0.008322059081840366,0.017974998686190877,0.05144136331084182,0.15548032836831166,0.014790239189783434,0.2007559335316911,1.0,0.04022961992472817,0.024230872832391028,0.050582581022480144,0.037876660651536276,-0.005014480881943624,0.04735648533754872,0.07482551691079667,0.007527380361859509,-0.014682185375990673,0.026989297676776308,-0.03681390146376456,0.010695612182712404,0.00937477658072282,0.03684885917900223,0.018319597262057254,-0.8053415974078927,-0.07548436837604858,0.12434770983844359,-0.02104049526625512,0.30146203511321035],[-0.01972440098654663,0.09282467190092739,0.18748666631116756,0.018986025905187092,-0.45451979906307116,0.01079390040973824,0.04022961992472817,1.0,0.0345707292612033,0.20287572898480538,0.11862930485794677,-0.03172576118438056,-0.01668570734727705,0.016383047441811814,0.0012278796705929072,-0.041957886225468054,0.0019256932745012332,-0.00817556930297952,-0.001948163427853072,0.0037594622640487155,-0.006917722705299475,0.004344600766667203,-0.0353918656696131,-0.01108983391457569,0.011732375696774069,0.05347816744168909,0.010436248688655158],[0.0006795486927003431,0.032250752754562316,0.02688326684918196,-0.010179572109513738,-0.0438432093216261,-0.009616186533656023,0.024230872832391028,0.0345707292612033,1.0,0.031018125099031395,0.04553162643465302,-0.004355799705323715,-0.012036329510353315,0.02272185709449237,0.0028010731097374854,-0.010137255300936681,0.002213987126142129,-0.0017896779078609907,-0.0004055145096908205,0.0024950240174478567,0.0003403688836928433,0.0005045380265656874,-0.020397051586945002,-0.014439987347468635,0.027704063654648666,0.002307615584565653,0.007180706338373612],[0.027623015603486747,0.07961361012594106,0.8259070009861386,0.07540808615016407,-0.17398984887556299,0.020731943830923822,0.050582581022480144,0.20287572898480538,0.031018125099031395,1.0,0.44734280210618155,-0.005569597190787265,-0.07990442641793277,-0.04263016462248271,0.014438755372370231,-0.007296597869400219,-0.0019827737370971777,-0.012017772845081454,0.0024974032192748865,0.05938561274982132,-0.027797155100931555,-0.0035139168843932025,-0.05450204771052665,-0.6356354823327213,-0.028243434868327286,0.10452108681605914,-0.15965721073242553],[0.040023319639023475,0.1693327011042863,0.3833127191292613,0.03832454483156,-0.09980236722851007,0.0036250003890991884,0.037876660651536276,0.11862930485794677,0.04553162643465302,0.44734280210618155,1.0,-0.01262244298706724,-0.04316962544024087,-0.017489213582802733,0.014686693393397777,-0.06242807935747612,-0.005956781734866736,-0.01148071957921499,0.0002413184254138957,0.006423142701935362,-0.010193497908697039,0.0030072756101222954,-0.02925825795833734,-0.4407890582475095,-0.032646061717178015,0.12914890804842155,-0.10305288547821692],[0.0007922430013117697,-0.013800258984393604,-0.02918763238570248,-0.0013173225934399154,0.052526931359296494,-0.01211068838514137,-0.005014480881943624,-0.03172576118438056,-0.004355799705323715,-0.005569597190787265,-0.01262244298706724,1.0,0.004460341750036451,-0.03279699299227667,-0.006054008790379338,0.03320020344244784,0.004357710761568225,0.003197945688481798,0.0033253831188424666,-0.0018042625933407611,-0.002162808112646306,-0.0022586321467409787,-0.00025593460781133304,-0.02007054276770537,9.944372190081216e-05,-0.012637577582433585,-0.0013840060911072187],[0.01174409765529889,-0.02148433447064561,-0.07263308071616191,0.009275443801005466,0.031394050146778256,0.012755842648420132,0.04735648533754872,-0.01668570734727705,-0.012036329510353315,-0.07990442641793277,-0.04316962544024087,0.004460341750036451,1.0,-0.08988456203295452,0.029134976217179913,0.00879367560168802,8.684131796347146e-05,-0.002143610251101679,0.00781452454276294,0.01716032949102206,0.0015565669963325175,0.0006576738303411167,-0.056163242611714695,0.0843802396296193,0.005228882456601579,-0.11166487422940725,0.057971004947678303],[0.010122307867867811,0.00019056813526369405,-0.03531783572344095,0.09999395497075093,-0.0221898673125628,0.042370401036408566,0.07482551691079667,0.016383047441811814,0.02272185709449237,-0.04263016462248271,-0.017489213582802733,-0.03279699299227667,-0.08988456203295452,1.0,0.03781213035930423,-0.026955545046434697,-0.004915963104761092,-0.003275332885994158,-2.2335890182163577e-05,0.007035505431438955,-0.001749996064905169,0.0009195980523886636,-0.08145509127180338,0.07459946797954006,0.06413752071170584,-0.09813397881009665,0.06402265738726792],[0.001042595091642878,0.0012546490792804373,0.014509319052967186,4.212201143102633e-05,-0.0006191647810016494,-0.0017137050520351109,0.007527380361859509,0.0012278796705929072,0.0028010731097374854,0.014438755372370231,0.014686693393397777,-0.006054008790379338,0.029134976217179913,0.03781213035930423,1.0,-0.0021304694883918875,0.0003217786358998381,-0.0004132937995298221,0.0007001009214226433,-0.0003014982443922929,0.0026419979926323657,0.000879344312546565,-0.00923174978632149,-0.01787018019371234,-0.0003868993543470733,-0.004418536745040444,-0.0033125150052077854],[0.007858547121070099,-0.028560205601568033,-0.014717778373990941,-0.029569797679714963,0.07841968055488094,0.018217428885989137,-0.014682185375990673,-0.041957886225468054,-0.010137255300936681,-0.007296597869400219,-0.06242807935747612,0.03320020344244784,0.00879367560168802,-0.026955545046434697,-0.0021304694883918875,1.0,0.07112952005763526,0.02842967774383957,-0.003338592146081127,-0.010910720612071715,-0.0025740457925903615,-0.07289581637359326,-0.04352434327361034,-0.004560865002611045,0.0060360333075986285,-0.07704757468850469,-0.0002381899271614991],[0.0161776807923053,0.0084468621987461,-0.0018635458640244367,0.014955257106088051,0.005907382685984419,-0.01383822993223405,0.026989297676776308,0.0019256932745012332,0.002213987126142129,-0.0019827737370971777,-0.005956781734866736,0.004357710761568225,8.684131796347146e-05,-0.004915963104761092,0.0003217786358998381,0.07112952005763526,1.0,-0.06789550688811609,0.013401740093105883,0.015656456732184014,0.003780441287715883,0.00560080547977526,-0.006885175469862945,0.0016662619755117571,-0.01516549555511704,0.01358444523579066,0.005113672872405229],[0.006786180774166095,-0.004947327375076347,-0.010032659241769085,0.005683318186415954,0.021154047057635298,0.03183121349435178,-0.03681390146376456,-0.00817556930297952,-0.0017896779078609907,-0.012017772845081454,-0.01148071957921499,0.003197945688481798,-0.002143610251101679,-0.003275332885994158,-0.0004132937995298221,0.02842967774383957,-0.06789550688811609,1.0,0.02872094128539557,-0.0016373087589737574,0.006670816185577783,0.017582085162162798,-0.1850735187041059,0.006057283680918515,-0.007617957744260983,-0.009382610177720354,0.05697717308553964],[0.0017046342569319282,-0.002340554413875269,0.00246812238600901,0.009198682586949234,0.012251125525154538,0.017644838147512998,0.010695612182712404,-0.001948163427853072,-0.0004055145096908205,0.0024974032192748865,0.0002413184254138957,0.0033253831188424666,0.00781452454276294,-2.2335890182163577e-05,0.0007001009214226433,-0.003338592146081127,0.013401740093105883,0.02872094128539557,1.0,-0.006938670353346704,-0.010662648681132012,-0.03150371546983252,-0.05615427528019447,-0.009727276581207187,0.0010578192310676075,-0.014391942130417671,0.07860082651747598],[0.006893389723299954,0.01574457577174063,0.051817552999702095,0.02124937327627575,-0.0755797008618314,0.002597334876131821,0.00937477658072282,0.0037594622640487155,0.0024950240174478567,0.05938561274982132,0.006423142701935362,-0.0018042625933407611,0.01716032949102206,0.007035505431438955,-0.0003014982443922929,-0.010910720612071715,0.015656456732184014,-0.0016373087589737574,-0.006938670353346704,1.0,-0.027380630158203065,0.01618572315076662,0.004915322449836586,-0.05194186941390076,-0.004857534415070292,0.005217616673500618,-0.009233822713553561],[0.005977483136933939,-0.004325170707454563,-0.022100781879831794,9.580321153323628e-05,0.016231877918100816,0.013996704373202015,0.03684885917900223,-0.006917722705299475,0.0003403688836928433,-0.027797155100931555,-0.010193497908697039,-0.002162808112646306,0.0015565669963325175,-0.001749996064905169,0.0026419979926323657,-0.0025740457925903615,0.003780441287715883,0.006670816185577783,-0.010662648681132012,-0.027380630158203065,1.0,0.02570000662584105,-0.03460306213638819,0.02944508598614774,0.05134110720372751,-0.008996464120476281,-0.00024396247837500816],[-0.0038532043035868933,0.0015207885290180936,-0.001736958585249503,-0.0011483617526476906,-0.008937886338241677,0.001287467951546661,0.018319597262057254,0.004344600766667203,0.0005045380265656874,-0.0035139168843932025,0.0030072756101222954,-0.0022586321467409787,0.0006576738303411167,0.0009195980523886636,0.000879344312546565,-0.07289581637359326,0.00560080547977526,0.017582085162162798,-0.03150371546983252,0.01618572315076662,0.02570000662584105,1.0,-0.009273231886779896,0.007608654659430941,0.0008898579308110167,0.004649445167885594,0.008160397326333717],[-0.010258134912726329,-0.01484195054977201,-0.054565387133788744,-0.1728988666328243,-0.03375570411778472,-0.2267905440093487,-0.8053415974078927,-0.0353918656696131,-0.020397051586945002,-0.05450204771052665,-0.02925825795833734,-0.00025593460781133304,-0.056163242611714695,-0.08145509127180338,-0.00923174978632149,-0.04352434327361034,-0.006885175469862945,-0.1850735187041059,-0.05615427528019447,0.004915322449836586,-0.03460306213638819,-0.009273231886779896,1.0,0.08250195316400048,-0.12352672342747616,0.03875425213450255,-0.32505016352247734],[-0.06106670778742233,-0.05659259520018866,-0.533521044532414,-0.07691869696743006,0.06073765719171611,-0.029201284878671553,-0.07548436837604858,-0.01108983391457569,-0.014439987347468635,-0.6356354823327213,-0.4407890582475095,-0.02007054276770537,0.0843802396296193,0.07459946797954006,-0.01787018019371234,-0.004560865002611045,0.0016662619755117571,0.006057283680918515,-0.009727276581207187,-0.05194186941390076,0.02944508598614774,0.007608654659430941,0.08250195316400048,1.0,0.03282763501724045,-0.10802545866149975,0.23403847199811334],[-0.022225912511608208,-0.03134889197598301,-0.021824858070220648,-0.005727525968072217,0.020866267883646993,0.09575565811901389,0.12434770983844359,0.011732375696774069,0.027704063654648666,-0.028243434868327286,-0.032646061717178015,9.944372190081216e-05,0.005228882456601579,0.06413752071170584,-0.0003868993543470733,0.0060360333075986285,-0.01516549555511704,-0.007617957744260983,0.0010578192310676075,-0.004857534415070292,0.05134110720372751,0.0008898579308110167,-0.12352672342747616,0.03282763501724045,1.0,-0.14025352179017023,0.08002645040752032],[0.012630544470878179,0.1041976770974927,0.1019645777536998,0.29422661917670123,-0.07887567591627753,-0.08468331737885874,-0.02104049526625512,0.05347816744168909,0.002307615584565653,0.10452108681605914,0.12914890804842155,-0.012637577582433585,-0.11166487422940725,-0.09813397881009665,-0.004418536745040444,-0.07704757468850469,0.01358444523579066,-0.009382610177720354,-0.014391942130417671,0.005217616673500618,-0.008996464120476281,0.004649445167885594,0.03875425213450255,-0.10802545866149975,-0.14025352179017023,1.0,-0.051012455821457935],[-0.010849659666805952,-0.009548658387880358,-0.1335419195441196,0.05899328039670671,0.03040028246876122,0.09132597045451674,0.30146203511321035,0.010436248688655158,0.007180706338373612,-0.15965721073242553,-0.10305288547821692,-0.0013840060911072187,0.057971004947678303,0.06402265738726792,-0.0033125150052077854,-0.0002381899271614991,0.005113672872405229,0.05697717308553964,0.07860082651747598,-0.009233822713553561,-0.00024396247837500816,0.008160397326333717,-0.32505016352247734,0.23403847199811334,0.08002645040752032,-0.051012455821457935,1.0]],\"type\":\"heatmap\",\"xaxis\":\"x\",\"yaxis\":\"y\",\"hovertemplate\":\"x: %{x}<br>y: %{y}<br>Correlation Coefficient: %{z}<extra></extra>\"}],                        {\"template\":{\"data\":{\"histogram2dcontour\":[{\"type\":\"histogram2dcontour\",\"colorbar\":{\"outlinewidth\":0,\"ticks\":\"\"},\"colorscale\":[[0.0,\"#0d0887\"],[0.1111111111111111,\"#46039f\"],[0.2222222222222222,\"#7201a8\"],[0.3333333333333333,\"#9c179e\"],[0.4444444444444444,\"#bd3786\"],[0.5555555555555556,\"#d8576b\"],[0.6666666666666666,\"#ed7953\"],[0.7777777777777778,\"#fb9f3a\"],[0.8888888888888888,\"#fdca26\"],[1.0,\"#f0f921\"]]}],\"choropleth\":[{\"type\":\"choropleth\",\"colorbar\":{\"outlinewidth\":0,\"ticks\":\"\"}}],\"histogram2d\":[{\"type\":\"histogram2d\",\"colorbar\":{\"outlinewidth\":0,\"ticks\":\"\"},\"colorscale\":[[0.0,\"#0d0887\"],[0.1111111111111111,\"#46039f\"],[0.2222222222222222,\"#7201a8\"],[0.3333333333333333,\"#9c179e\"],[0.4444444444444444,\"#bd3786\"],[0.5555555555555556,\"#d8576b\"],[0.6666666666666666,\"#ed7953\"],[0.7777777777777778,\"#fb9f3a\"],[0.8888888888888888,\"#fdca26\"],[1.0,\"#f0f921\"]]}],\"heatmap\":[{\"type\":\"heatmap\",\"colorbar\":{\"outlinewidth\":0,\"ticks\":\"\"},\"colorscale\":[[0.0,\"#0d0887\"],[0.1111111111111111,\"#46039f\"],[0.2222222222222222,\"#7201a8\"],[0.3333333333333333,\"#9c179e\"],[0.4444444444444444,\"#bd3786\"],[0.5555555555555556,\"#d8576b\"],[0.6666666666666666,\"#ed7953\"],[0.7777777777777778,\"#fb9f3a\"],[0.8888888888888888,\"#fdca26\"],[1.0,\"#f0f921\"]]}],\"heatmapgl\":[{\"type\":\"heatmapgl\",\"colorbar\":{\"outlinewidth\":0,\"ticks\":\"\"},\"colorscale\":[[0.0,\"#0d0887\"],[0.1111111111111111,\"#46039f\"],[0.2222222222222222,\"#7201a8\"],[0.3333333333333333,\"#9c179e\"],[0.4444444444444444,\"#bd3786\"],[0.5555555555555556,\"#d8576b\"],[0.6666666666666666,\"#ed7953\"],[0.7777777777777778,\"#fb9f3a\"],[0.8888888888888888,\"#fdca26\"],[1.0,\"#f0f921\"]]}],\"contourcarpet\":[{\"type\":\"contourcarpet\",\"colorbar\":{\"outlinewidth\":0,\"ticks\":\"\"}}],\"contour\":[{\"type\":\"contour\",\"colorbar\":{\"outlinewidth\":0,\"ticks\":\"\"},\"colorscale\":[[0.0,\"#0d0887\"],[0.1111111111111111,\"#46039f\"],[0.2222222222222222,\"#7201a8\"],[0.3333333333333333,\"#9c179e\"],[0.4444444444444444,\"#bd3786\"],[0.5555555555555556,\"#d8576b\"],[0.6666666666666666,\"#ed7953\"],[0.7777777777777778,\"#fb9f3a\"],[0.8888888888888888,\"#fdca26\"],[1.0,\"#f0f921\"]]}],\"surface\":[{\"type\":\"surface\",\"colorbar\":{\"outlinewidth\":0,\"ticks\":\"\"},\"colorscale\":[[0.0,\"#0d0887\"],[0.1111111111111111,\"#46039f\"],[0.2222222222222222,\"#7201a8\"],[0.3333333333333333,\"#9c179e\"],[0.4444444444444444,\"#bd3786\"],[0.5555555555555556,\"#d8576b\"],[0.6666666666666666,\"#ed7953\"],[0.7777777777777778,\"#fb9f3a\"],[0.8888888888888888,\"#fdca26\"],[1.0,\"#f0f921\"]]}],\"mesh3d\":[{\"type\":\"mesh3d\",\"colorbar\":{\"outlinewidth\":0,\"ticks\":\"\"}}],\"scatter\":[{\"fillpattern\":{\"fillmode\":\"overlay\",\"size\":10,\"solidity\":0.2},\"type\":\"scatter\"}],\"parcoords\":[{\"type\":\"parcoords\",\"line\":{\"colorbar\":{\"outlinewidth\":0,\"ticks\":\"\"}}}],\"scatterpolargl\":[{\"type\":\"scatterpolargl\",\"marker\":{\"colorbar\":{\"outlinewidth\":0,\"ticks\":\"\"}}}],\"bar\":[{\"error_x\":{\"color\":\"#2a3f5f\"},\"error_y\":{\"color\":\"#2a3f5f\"},\"marker\":{\"line\":{\"color\":\"#E5ECF6\",\"width\":0.5},\"pattern\":{\"fillmode\":\"overlay\",\"size\":10,\"solidity\":0.2}},\"type\":\"bar\"}],\"scattergeo\":[{\"type\":\"scattergeo\",\"marker\":{\"colorbar\":{\"outlinewidth\":0,\"ticks\":\"\"}}}],\"scatterpolar\":[{\"type\":\"scatterpolar\",\"marker\":{\"colorbar\":{\"outlinewidth\":0,\"ticks\":\"\"}}}],\"histogram\":[{\"marker\":{\"pattern\":{\"fillmode\":\"overlay\",\"size\":10,\"solidity\":0.2}},\"type\":\"histogram\"}],\"scattergl\":[{\"type\":\"scattergl\",\"marker\":{\"colorbar\":{\"outlinewidth\":0,\"ticks\":\"\"}}}],\"scatter3d\":[{\"type\":\"scatter3d\",\"line\":{\"colorbar\":{\"outlinewidth\":0,\"ticks\":\"\"}},\"marker\":{\"colorbar\":{\"outlinewidth\":0,\"ticks\":\"\"}}}],\"scattermapbox\":[{\"type\":\"scattermapbox\",\"marker\":{\"colorbar\":{\"outlinewidth\":0,\"ticks\":\"\"}}}],\"scatterternary\":[{\"type\":\"scatterternary\",\"marker\":{\"colorbar\":{\"outlinewidth\":0,\"ticks\":\"\"}}}],\"scattercarpet\":[{\"type\":\"scattercarpet\",\"marker\":{\"colorbar\":{\"outlinewidth\":0,\"ticks\":\"\"}}}],\"carpet\":[{\"aaxis\":{\"endlinecolor\":\"#2a3f5f\",\"gridcolor\":\"white\",\"linecolor\":\"white\",\"minorgridcolor\":\"white\",\"startlinecolor\":\"#2a3f5f\"},\"baxis\":{\"endlinecolor\":\"#2a3f5f\",\"gridcolor\":\"white\",\"linecolor\":\"white\",\"minorgridcolor\":\"white\",\"startlinecolor\":\"#2a3f5f\"},\"type\":\"carpet\"}],\"table\":[{\"cells\":{\"fill\":{\"color\":\"#EBF0F8\"},\"line\":{\"color\":\"white\"}},\"header\":{\"fill\":{\"color\":\"#C8D4E3\"},\"line\":{\"color\":\"white\"}},\"type\":\"table\"}],\"barpolar\":[{\"marker\":{\"line\":{\"color\":\"#E5ECF6\",\"width\":0.5},\"pattern\":{\"fillmode\":\"overlay\",\"size\":10,\"solidity\":0.2}},\"type\":\"barpolar\"}],\"pie\":[{\"automargin\":true,\"type\":\"pie\"}]},\"layout\":{\"autotypenumbers\":\"strict\",\"colorway\":[\"#636efa\",\"#EF553B\",\"#00cc96\",\"#ab63fa\",\"#FFA15A\",\"#19d3f3\",\"#FF6692\",\"#B6E880\",\"#FF97FF\",\"#FECB52\"],\"font\":{\"color\":\"#2a3f5f\"},\"hovermode\":\"closest\",\"hoverlabel\":{\"align\":\"left\"},\"paper_bgcolor\":\"white\",\"plot_bgcolor\":\"#E5ECF6\",\"polar\":{\"bgcolor\":\"#E5ECF6\",\"angularaxis\":{\"gridcolor\":\"white\",\"linecolor\":\"white\",\"ticks\":\"\"},\"radialaxis\":{\"gridcolor\":\"white\",\"linecolor\":\"white\",\"ticks\":\"\"}},\"ternary\":{\"bgcolor\":\"#E5ECF6\",\"aaxis\":{\"gridcolor\":\"white\",\"linecolor\":\"white\",\"ticks\":\"\"},\"baxis\":{\"gridcolor\":\"white\",\"linecolor\":\"white\",\"ticks\":\"\"},\"caxis\":{\"gridcolor\":\"white\",\"linecolor\":\"white\",\"ticks\":\"\"}},\"coloraxis\":{\"colorbar\":{\"outlinewidth\":0,\"ticks\":\"\"}},\"colorscale\":{\"sequential\":[[0.0,\"#0d0887\"],[0.1111111111111111,\"#46039f\"],[0.2222222222222222,\"#7201a8\"],[0.3333333333333333,\"#9c179e\"],[0.4444444444444444,\"#bd3786\"],[0.5555555555555556,\"#d8576b\"],[0.6666666666666666,\"#ed7953\"],[0.7777777777777778,\"#fb9f3a\"],[0.8888888888888888,\"#fdca26\"],[1.0,\"#f0f921\"]],\"sequentialminus\":[[0.0,\"#0d0887\"],[0.1111111111111111,\"#46039f\"],[0.2222222222222222,\"#7201a8\"],[0.3333333333333333,\"#9c179e\"],[0.4444444444444444,\"#bd3786\"],[0.5555555555555556,\"#d8576b\"],[0.6666666666666666,\"#ed7953\"],[0.7777777777777778,\"#fb9f3a\"],[0.8888888888888888,\"#fdca26\"],[1.0,\"#f0f921\"]],\"diverging\":[[0,\"#8e0152\"],[0.1,\"#c51b7d\"],[0.2,\"#de77ae\"],[0.3,\"#f1b6da\"],[0.4,\"#fde0ef\"],[0.5,\"#f7f7f7\"],[0.6,\"#e6f5d0\"],[0.7,\"#b8e186\"],[0.8,\"#7fbc41\"],[0.9,\"#4d9221\"],[1,\"#276419\"]]},\"xaxis\":{\"gridcolor\":\"white\",\"linecolor\":\"white\",\"ticks\":\"\",\"title\":{\"standoff\":15},\"zerolinecolor\":\"white\",\"automargin\":true,\"zerolinewidth\":2},\"yaxis\":{\"gridcolor\":\"white\",\"linecolor\":\"white\",\"ticks\":\"\",\"title\":{\"standoff\":15},\"zerolinecolor\":\"white\",\"automargin\":true,\"zerolinewidth\":2},\"scene\":{\"xaxis\":{\"backgroundcolor\":\"#E5ECF6\",\"gridcolor\":\"white\",\"linecolor\":\"white\",\"showbackground\":true,\"ticks\":\"\",\"zerolinecolor\":\"white\",\"gridwidth\":2},\"yaxis\":{\"backgroundcolor\":\"#E5ECF6\",\"gridcolor\":\"white\",\"linecolor\":\"white\",\"showbackground\":true,\"ticks\":\"\",\"zerolinecolor\":\"white\",\"gridwidth\":2},\"zaxis\":{\"backgroundcolor\":\"#E5ECF6\",\"gridcolor\":\"white\",\"linecolor\":\"white\",\"showbackground\":true,\"ticks\":\"\",\"zerolinecolor\":\"white\",\"gridwidth\":2}},\"shapedefaults\":{\"line\":{\"color\":\"#2a3f5f\"}},\"annotationdefaults\":{\"arrowcolor\":\"#2a3f5f\",\"arrowhead\":0,\"arrowwidth\":1},\"geo\":{\"bgcolor\":\"white\",\"landcolor\":\"#E5ECF6\",\"subunitcolor\":\"white\",\"showland\":true,\"showlakes\":true,\"lakecolor\":\"white\"},\"title\":{\"x\":0.05},\"mapbox\":{\"style\":\"light\"}}},\"xaxis\":{\"anchor\":\"y\",\"domain\":[0.0,1.0],\"scaleanchor\":\"y\",\"constrain\":\"domain\"},\"yaxis\":{\"anchor\":\"x\",\"domain\":[0.0,1.0],\"autorange\":\"reversed\",\"constrain\":\"domain\"},\"coloraxis\":{\"colorbar\":{\"title\":{\"text\":\"Correlation Coefficient\"}},\"colorscale\":[[0.0,\"rgb(247,251,255)\"],[0.125,\"rgb(222,235,247)\"],[0.25,\"rgb(198,219,239)\"],[0.375,\"rgb(158,202,225)\"],[0.5,\"rgb(107,174,214)\"],[0.625,\"rgb(66,146,198)\"],[0.75,\"rgb(33,113,181)\"],[0.875,\"rgb(8,81,156)\"],[1.0,\"rgb(8,48,107)\"]],\"cmid\":0},\"title\":{\"text\":\"Correlation Matrix (Pearson)\"},\"height\":1350,\"width\":1350},                        {\"responsive\": true}                    )                };                            </script>        </div>\n",
       "</body>\n",
       "</html>"
      ]
     },
     "metadata": {},
     "output_type": "display_data"
    }
   ],
   "source": [
    "# Get only numeric columns from X\n",
    "numeric_cols = X.select_dtypes(include=['number']).columns.tolist()\n",
    "\n",
    "# Compute Pearson correlation matrix\n",
    "corr = X[numeric_cols].corr(method='pearson')\n",
    "\n",
    "# Plot the heatmap\n",
    "fig = px.imshow(\n",
    "    corr, \n",
    "    height=1350, width=1350, \n",
    "    text_auto=\".2f\",\n",
    "    title=\"Correlation Matrix (Pearson)\",\n",
    "    color_continuous_scale='Blues',\n",
    "    color_continuous_midpoint=0,\n",
    "    labels={'color': 'Correlation Coefficient'}\n",
    ")\n",
    "fig.show()"
   ]
  },
  {
   "cell_type": "code",
   "execution_count": 0,
   "metadata": {
    "application/vnd.databricks.v1+cell": {
     "cellMetadata": {
      "byteLimit": 2048000,
      "rowLimit": 10000
     },
     "collapsed": true,
     "inputWidgets": {},
     "nuid": "e888f065-ea9c-40b2-80e1-77004f45d534",
     "showTitle": false,
     "tableResultSettingsMap": {},
     "title": ""
    }
   },
   "outputs": [
    {
     "name": "stdout",
     "output_type": "stream",
     "text": [
      "x_train shape: (953838, 28)\n",
      "x_test shape: (408788, 28)\n",
      "y_train shape: (953838,)\n",
      "y_test shape: (408788,)\n"
     ]
    }
   ],
   "source": [
    "# SCALING \n",
    "scaler = StandardScaler()\n",
    "X_scaled = scaler.fit_transform(X)\n",
    "\n",
    "# TRAIN SPLIT\n",
    "X_train, X_test, y_train, y_test = train_test_split(X_scaled, y, test_size=0.3, random_state=42, stratify=y)\n",
    "\n",
    "# Data set shape\n",
    "print(f\"x_train shape: {X_train.shape}\")\n",
    "print(f\"x_test shape: {X_test.shape}\")\n",
    "print(f\"y_train shape: {y_train.shape}\")\n",
    "print(f\"y_test shape: {y_test.shape}\")"
   ]
  },
  {
   "cell_type": "code",
   "execution_count": 0,
   "metadata": {
    "application/vnd.databricks.v1+cell": {
     "cellMetadata": {
      "byteLimit": 2048000,
      "rowLimit": 10000
     },
     "collapsed": true,
     "inputWidgets": {},
     "nuid": "a96cc672-50b0-4eac-86da-0a7696a8db95",
     "showTitle": false,
     "tableResultSettingsMap": {},
     "title": ""
    }
   },
   "outputs": [
    {
     "name": "stderr",
     "output_type": "stream",
     "text": [
      "/databricks/python/lib/python3.11/site-packages/sklearn/calibration.py:300: FutureWarning:\n",
      "\n",
      "`base_estimator` was renamed to `estimator` in version 1.2 and will be removed in 1.4.\n",
      "\n"
     ]
    },
    {
     "name": "stdout",
     "output_type": "stream",
     "text": [
      "Calibrated XGBoost Model\n",
      "              precision    recall  f1-score   support\n",
      "\n",
      "           0       0.69      0.69      0.69    210286\n",
      "           1       0.67      0.67      0.67    198502\n",
      "\n",
      "    accuracy                           0.68    408788\n",
      "   macro avg       0.68      0.68      0.68    408788\n",
      "weighted avg       0.68      0.68      0.68    408788\n",
      "\n",
      "ROC AUC Score: 0.7473\n"
     ]
    }
   ],
   "source": [
    "# TRAIN XGBOOST\n",
    "scale_pos_weight = Counter(y_train)[0] / Counter(y_train)[1]\n",
    "xgb = XGBClassifier(eval_metric='logloss', scale_pos_weight=scale_pos_weight, random_state=42)\n",
    "xgb.fit(X_train, y_train)\n",
    "\n",
    "# CALIBRATE XGBOOST\n",
    "calibrated_xgb = CalibratedClassifierCV(base_estimator=xgb, method='sigmoid', cv=5)\n",
    "calibrated_xgb.fit(X_train, y_train)\n",
    "\n",
    "# EVALUATE FINAL MODEL\n",
    "y_probs = calibrated_xgb.predict_proba(X_test)[:, 1]\n",
    "y_preds = calibrated_xgb.predict(X_test)\n",
    "\n",
    "print(\"Calibrated XGBoost Model\")\n",
    "print(classification_report(y_test, y_preds))\n",
    "print(f\"ROC AUC Score: {roc_auc_score(y_test, y_probs):.4f}\")"
   ]
  },
  {
   "cell_type": "code",
   "execution_count": 0,
   "metadata": {
    "application/vnd.databricks.v1+cell": {
     "cellMetadata": {
      "byteLimit": 2048000,
      "rowLimit": 10000
     },
     "collapsed": true,
     "inputWidgets": {},
     "nuid": "f0779b18-5e5d-4791-b6f2-deb237e610a7",
     "showTitle": false,
     "tableResultSettingsMap": {},
     "title": ""
    }
   },
   "outputs": [
    {
     "data": {
      "image/png": "[encoded data removed]",
      "text/plain": [
       "<Figure size 640x480 with 1 Axes>"
      ]
     },
     "metadata": {},
     "output_type": "display_data"
    }
   ],
   "source": [
    "# CALIBRATION CURVE\n",
    "prob_true, prob_pred = calibration_curve(y_test, y_probs, n_bins=10)\n",
    "plt.plot(prob_pred, prob_true, marker='o')\n",
    "plt.plot([0, 1], [0, 1], linestyle='--', color='gray')\n",
    "plt.title(\"Calibration Curve\")\n",
    "plt.xlabel(\"Predicted Probability\")\n",
    "plt.ylabel(\"Actual Frequency\")\n",
    "plt.grid(True)\n",
    "plt.show()"
   ]
  },
  {
   "cell_type": "code",
   "execution_count": 0,
   "metadata": {
    "application/vnd.databricks.v1+cell": {
     "cellMetadata": {
      "byteLimit": 2048000,
      "rowLimit": 10000
     },
     "collapsed": true,
     "inputWidgets": {},
     "nuid": "27569058-2ee9-488d-9729-966583c29df3",
     "showTitle": false,
     "tableResultSettingsMap": {},
     "title": ""
    }
   },
   "outputs": [
    {
     "name": "stdout",
     "output_type": "stream",
     "text": [
      "Sample (10000 donors): Predicted Avg = 0.481, Actual Avg = 0.483, Error = 0.002\n"
     ]
    },
    {
     "data": {
      "text/html": [
       "<div>\n",
       "<style scoped>\n",
       "    .dataframe tbody tr th:only-of-type {\n",
       "        vertical-align: middle;\n",
       "    }\n",
       "\n",
       "    .dataframe tbody tr th {\n",
       "        vertical-align: top;\n",
       "    }\n",
       "\n",
       "    .dataframe thead th {\n",
       "        text-align: right;\n",
       "    }\n",
       "</style>\n",
       "<table border=\"1\" class=\"dataframe\">\n",
       "  <thead>\n",
       "    <tr style=\"text-align: right;\">\n",
       "      <th></th>\n",
       "      <th>donor_id</th>\n",
       "      <th>actual</th>\n",
       "      <th>probability</th>\n",
       "      <th>bucket</th>\n",
       "    </tr>\n",
       "  </thead>\n",
       "  <tbody>\n",
       "    <tr>\n",
       "      <th>180009</th>\n",
       "      <td>1612035</td>\n",
       "      <td>0</td>\n",
       "      <td>0.302484</td>\n",
       "      <td>Medium</td>\n",
       "    </tr>\n",
       "    <tr>\n",
       "      <th>104307</th>\n",
       "      <td>1307849</td>\n",
       "      <td>1</td>\n",
       "      <td>0.672197</td>\n",
       "      <td>Medium</td>\n",
       "    </tr>\n",
       "    <tr>\n",
       "      <th>993252</th>\n",
       "      <td>707248</td>\n",
       "      <td>1</td>\n",
       "      <td>0.704885</td>\n",
       "      <td>High</td>\n",
       "    </tr>\n",
       "    <tr>\n",
       "      <th>1060142</th>\n",
       "      <td>1581233</td>\n",
       "      <td>1</td>\n",
       "      <td>0.696670</td>\n",
       "      <td>Medium</td>\n",
       "    </tr>\n",
       "    <tr>\n",
       "      <th>640928</th>\n",
       "      <td>1645608</td>\n",
       "      <td>1</td>\n",
       "      <td>0.569387</td>\n",
       "      <td>Medium</td>\n",
       "    </tr>\n",
       "  </tbody>\n",
       "</table>\n",
       "</div>"
      ],
      "text/plain": [
       "         donor_id  actual  probability  bucket\n",
       "180009    1612035       0     0.302484  Medium\n",
       "104307    1307849       1     0.672197  Medium\n",
       "993252     707248       1     0.704885    High\n",
       "1060142   1581233       1     0.696670  Medium\n",
       "640928    1645608       1     0.569387  Medium"
      ]
     },
     "execution_count": 24,
     "metadata": {},
     "output_type": "execute_result"
    }
   ],
   "source": [
    "# BUCKET DONORS\n",
    "low_thresh = 0.3\n",
    "high_thresh = 0.7\n",
    "\n",
    "def bucketize(prob):\n",
    "    if prob < low_thresh:\n",
    "        return 'Low'\n",
    "    elif prob < high_thresh:\n",
    "        return 'Medium'\n",
    "    else:\n",
    "        return 'High'\n",
    "\n",
    "buckets = [bucketize(p) for p in y_probs]\n",
    "\n",
    "# ✅ STEP 10: GENERATE OUTPUT\n",
    "output_df = pd.DataFrame({\n",
    "    'donor_id': pandas_df.loc[y_test.index, 'donor_id'],\n",
    "    'actual': y_test.values,\n",
    "    'probability': y_probs,\n",
    "    'bucket': buckets\n",
    "})\n",
    "\n",
    "# VALIDATE CALIBRATION ON SAMPLE\n",
    "sample = output_df.sample(10000, random_state=42)\n",
    "predicted_avg = sample['probability'].mean()\n",
    "actual_avg = sample['actual'].mean()\n",
    "error = abs(predicted_avg - actual_avg)\n",
    "\n",
    "print(f\"Sample (10000 donors): Predicted Avg = {predicted_avg:.3f}, Actual Avg = {actual_avg:.3f}, Error = {error:.3f}\")\n",
    "\n",
    "# DISPLAY FINAL PREDICTIONS\n",
    "output_df.head()"
   ]
  },
  {
   "cell_type": "code",
   "execution_count": 0,
   "metadata": {
    "application/vnd.databricks.v1+cell": {
     "cellMetadata": {
      "byteLimit": 2048000,
      "rowLimit": 10000
     },
     "collapsed": true,
     "inputWidgets": {},
     "nuid": "69dab5f5-e996-474a-80a5-98ed9afe862d",
     "showTitle": false,
     "tableResultSettingsMap": {},
     "title": ""
    }
   },
   "outputs": [
    {
     "data": {
      "text/html": [
       "<style scoped>\n",
       "  .table-result-container {\n",
       "    max-height: 300px;\n",
       "    overflow: auto;\n",
       "  }\n",
       "  table, th, td {\n",
       "    border: 1px solid black;\n",
       "    border-collapse: collapse;\n",
       "  }\n",
       "  th, td {\n",
       "    padding: 5px;\n",
       "  }\n",
       "  th {\n",
       "    text-align: left;\n",
       "  }\n",
       "</style><div class='table-result-container'><table class='table-result'><thead style='background-color: white'><tr><th>Feature</th><th>Importance</th></tr></thead><tbody><tr><td>profile_complete</td><td>0.31346002</td></tr><tr><td>first_gift_is_tithe</td><td>0.23051229</td></tr><tr><td>recurring_type_encoded</td><td>0.10078125</td></tr><tr><td>signup_device_encoded</td><td>0.090068065</td></tr><tr><td>covid</td><td>0.04089002</td></tr><tr><td>memo_engagement</td><td>0.034077875</td></tr><tr><td>py_was_first</td><td>0.028787842</td></tr><tr><td>num_gifts_on_first_day</td><td>0.022407351</td></tr><tr><td>is_conference</td><td>0.019516526</td></tr><tr><td>log_first_donation_amount</td><td>0.011787047</td></tr><tr><td>num_first_time_co_donors</td><td>0.0115122795</td></tr><tr><td>donor_set_location</td><td>0.010056985</td></tr><tr><td>cmet_code</td><td>0.009513122</td></tr><tr><td>memo_admin</td><td>0.009220386</td></tr><tr><td>first_gift_weekday_encoded</td><td>0.007943925</td></tr><tr><td>distance_to_gp_bucket</td><td>0.007229007</td></tr><tr><td>giving_tuesday</td><td>0.0070845797</td></tr><tr><td>gp_age_at_gift_months</td><td>0.0070777973</td></tr><tr><td>gender_encoded</td><td>0.006137653</td></tr><tr><td>is_payweek</td><td>0.0040997397</td></tr><tr><td>first_gift_hour</td><td>0.00409216</td></tr><tr><td>first_of_month</td><td>0.004003008</td></tr><tr><td>stimulus</td><td>0.0038962977</td></tr><tr><td>gp_profile_complete</td><td>0.0038104767</td></tr><tr><td>urbanicity_class_encoded</td><td>0.003592491</td></tr><tr><td>last_of_month</td><td>0.003508772</td></tr><tr><td>covid_final_wk_tue_fri</td><td>0.002886481</td></tr><tr><td>got_response_same_day</td><td>0.0020466517</td></tr></tbody></table></div>"
      ]
     },
     "metadata": {
      "application/vnd.databricks.v1+output": {
       "addedWidgets": {},
       "aggData": [],
       "aggError": "",
       "aggOverflow": false,
       "aggSchema": [],
       "aggSeriesLimitReached": false,
       "aggType": "",
       "arguments": {},
       "columnCustomDisplayInfos": {},
       "data": [
        [
         "profile_complete",
         0.31346002
        ],
        [
         "first_gift_is_tithe",
         0.23051229
        ],
        [
         "recurring_type_encoded",
         0.10078125
        ],
        [
         "signup_device_encoded",
         0.090068065
        ],
        [
         "covid",
         0.04089002
        ],
        [
         "memo_engagement",
         0.034077875
        ],
        [
         "py_was_first",
         0.028787842
        ],
        [
         "num_gifts_on_first_day",
         0.022407351
        ],
        [
         "is_conference",
         0.019516526
        ],
        [
         "log_first_donation_amount",
         0.011787047
        ],
        [
         "num_first_time_co_donors",
         0.0115122795
        ],
        [
         "donor_set_location",
         0.010056985
        ],
        [
         "cmet_code",
         0.009513122
        ],
        [
         "memo_admin",
         0.009220386
        ],
        [
         "first_gift_weekday_encoded",
         0.007943925
        ],
        [
         "distance_to_gp_bucket",
         0.007229007
        ],
        [
         "giving_tuesday",
         0.0070845797
        ],
        [
         "gp_age_at_gift_months",
         0.0070777973
        ],
        [
         "gender_encoded",
         0.006137653
        ],
        [
         "is_payweek",
         0.0040997397
        ],
        [
         "first_gift_hour",
         0.00409216
        ],
        [
         "first_of_month",
         0.004003008
        ],
        [
         "stimulus",
         0.0038962977
        ],
        [
         "gp_profile_complete",
         0.0038104767
        ],
        [
         "urbanicity_class_encoded",
         0.003592491
        ],
        [
         "last_of_month",
         0.003508772
        ],
        [
         "covid_final_wk_tue_fri",
         0.002886481
        ],
        [
         "got_response_same_day",
         0.0020466517
        ]
       ],
       "datasetInfos": [],
       "dbfsResultPath": null,
       "isJsonSchema": true,
       "metadata": {},
       "overflow": false,
       "plotOptions": {
        "customPlotOptions": {},
        "displayType": "table",
        "pivotAggregation": null,
        "pivotColumns": null,
        "xColumns": null,
        "yColumns": null
       },
       "removedWidgets": [],
       "schema": [
        {
         "metadata": "{}",
         "name": "Feature",
         "type": "\"string\""
        },
        {
         "metadata": "{}",
         "name": "Importance",
         "type": "\"float\""
        }
       ],
       "type": "table"
      }
     },
     "output_type": "display_data"
    }
   ],
   "source": [
    "importances = xgb.feature_importances_\n",
    "feature_importances = pd.DataFrame({'Feature': X.columns, 'Importance': importances})\n",
    "feature_importances = feature_importances.sort_values(by='Importance', ascending=False)\n",
    "display(feature_importances)"
   ]
  },
  {
   "cell_type": "code",
   "execution_count": 0,
   "metadata": {
    "application/vnd.databricks.v1+cell": {
     "cellMetadata": {
      "byteLimit": 2048000,
      "rowLimit": 10000
     },
     "collapsed": true,
     "inputWidgets": {},
     "nuid": "7d3d784b-ebd0-4195-88bc-2eb8378dc30b",
     "showTitle": false,
     "tableResultSettingsMap": {},
     "title": ""
    }
   },
   "outputs": [
    {
     "name": "stdout",
     "output_type": "stream",
     "text": [
      "scale_pos_weight: 1.06\n"
     ]
    },
    {
     "name": "stderr",
     "output_type": "stream",
     "text": [
      "/local_disk0/.ephemeral_nfs/envs/pythonEnv-9cd854bd-c542-4bec-8f27-de698626a27d/lib/python3.11/site-packages/xgboost/training.py:183: UserWarning:\n",
      "\n",
      "[18:44:28] WARNING: /workspace/src/learner.cc:738: \n",
      "Parameters: { \"use_label_encoder\" } are not used.\n",
      "\n",
      "\n"
     ]
    },
    {
     "name": "stdout",
     "output_type": "stream",
     "text": [
      "XGBoost with Class Imbalance Handling\n",
      "              precision    recall  f1-score   support\n",
      "\n",
      "           0       0.70      0.67      0.68    139692\n",
      "           1       0.66      0.69      0.68    132034\n",
      "\n",
      "    accuracy                           0.68    271726\n",
      "   macro avg       0.68      0.68      0.68    271726\n",
      "weighted avg       0.68      0.68      0.68    271726\n",
      "\n",
      "ROC AUC Score: 0.7437\n"
     ]
    }
   ],
   "source": [
    "pandas_df.loc[pandas_df['donor_id'] == 1350710]\n",
    "\n"
   ]
  }
 ],
 "metadata": {
  "application/vnd.databricks.v1+notebook": {
   "computePreferences": null,
   "dashboards": [],
   "environmentMetadata": {
    "base_environment": "",
    "environment_version": "2"
   },
   "inputWidgetPreferences": null,
   "language": "python",
   "notebookMetadata": {
    "pythonIndentUnit": 4
   },
   "notebookName": "Donor retention Model",
   "widgets": {}
  },
  "language_info": {
   "name": "python"
  }
 },
 "nbformat": 4,
 "nbformat_minor": 0
}
